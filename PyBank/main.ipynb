{
 "cells": [
  {
   "cell_type": "code",
   "execution_count": 1,
   "id": "55481f6b-0873-4bbd-9aad-ede34d45cb2b",
   "metadata": {},
   "outputs": [
    {
     "name": "stdout",
     "output_type": "stream",
     "text": [
      "Financial Analysis\n",
      "----------------------------\n",
      "Total Months: 86\n",
      "Total: $38382578\n",
      "Average Change: $446309.05\n",
      "Greatest Increase in Profits: Feb-2012 ($1170593)\n",
      "Greatest Decrease in Profits: Sep-2013 ($-1196225)\n"
     ]
    }
   ],
   "source": [
    "from pathlib import Path\n",
    "import math, csv\n",
    "\n",
    "# Set the file path\n",
    "csvpath = Path('budget_data.csv')\n",
    "\n",
    "#open file\n",
    "with open(csvpath, 'r') as csvfile:\n",
    "\n",
    "    # Pass in the csv file to the csv.reader() function\n",
    "    # (with ',' as the delmiter/separator) and return the csvreader object\n",
    "    csvreader = csv.reader(csvfile, delimiter=',')\n",
    "\n",
    "    # Skip the header row\n",
    "    csv_header = next(csvreader)\n",
    "    \n",
    "    #accumulator variables\n",
    "    total_months = 0\n",
    "    total_profit = 0\n",
    "    max_gain = {'date': '', 'value':-math.inf}\n",
    "    max_loss = {'date': '', 'value':math.inf}\n",
    "    \n",
    "    # Read each row of data after the header\n",
    "    for row in csvreader:\n",
    "\n",
    "        #parse each column of the row\n",
    "        date = row[0]\n",
    "        value = int(row[1])\n",
    "        \n",
    "        #accumulate total months & profit\n",
    "        total_months += 1\n",
    "        total_profit += value\n",
    "        \n",
    "        #assign max_gain, max_loss if applicable\n",
    "        if value > max_gain['value']:\n",
    "            max_gain['value'] = value\n",
    "            max_gain['date'] = date\n",
    "            \n",
    "        elif value < max_loss['value']:\n",
    "            max_loss['value'] = value\n",
    "            max_loss['date'] = date\n",
    "            \n",
    "print('Financial Analysis\\n----------------------------')\n",
    "print(f'Total Months: {total_months}')\n",
    "print(f'Total: ${total_profit}')\n",
    "print(f'Average Change: ${round(total_profit/total_months,2)}')\n",
    "print(f\"Greatest Increase in Profits: {max_gain['date']} (${max_gain['value']})\")\n",
    "print(f\"Greatest Decrease in Profits: {max_loss['date']} (${max_loss['value']})\")"
   ]
  },
  {
   "cell_type": "code",
   "execution_count": 2,
   "id": "8a7c83b7-5cf1-4d8a-895b-7289c62619ec",
   "metadata": {},
   "outputs": [],
   "source": [
    "with open('PyBankReport.txt', 'w') as f:\n",
    "    f.write('Financial Analysis\\n----------------------------\\n')\n",
    "    f.write(f'Total Months: {total_months}\\n')\n",
    "    f.write(f'Total: ${total_profit}\\n')\n",
    "    f.write(f'Average Change: ${round(total_profit/total_months,2)}\\n')\n",
    "    f.write(f\"Greatest Increase in Profits: {max_gain['date']} (${max_gain['value']})\\n\")\n",
    "    f.write(f\"Greatest Decrease in Profits: {max_loss['date']} (${max_loss['value']})\")"
   ]
  },
  {
   "cell_type": "code",
   "execution_count": null,
   "id": "41da7a68-d574-482c-972e-69a334ad73e7",
   "metadata": {},
   "outputs": [],
   "source": []
  }
 ],
 "metadata": {
  "kernelspec": {
   "display_name": "Python 3 (ipykernel)",
   "language": "python",
   "name": "python3"
  },
  "language_info": {
   "codemirror_mode": {
    "name": "ipython",
    "version": 3
   },
   "file_extension": ".py",
   "mimetype": "text/x-python",
   "name": "python",
   "nbconvert_exporter": "python",
   "pygments_lexer": "ipython3",
   "version": "3.7.13"
  }
 },
 "nbformat": 4,
 "nbformat_minor": 5
}
