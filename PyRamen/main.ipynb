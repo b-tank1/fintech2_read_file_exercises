{
 "cells": [
  {
   "cell_type": "code",
   "execution_count": 1,
   "id": "b46fad1b-53e1-4a75-bc23-b13c8dee3f16",
   "metadata": {},
   "outputs": [],
   "source": [
    "from pathlib import Path\n",
    "import math, csv\n",
    "\n",
    "#define function to take in the filepath of a csv file, output a list of lists storing the file contents \n",
    "def read_csv(filepath):\n",
    "    \n",
    "    # Set the file path\n",
    "    csvpath = Path(filepath)\n",
    "\n",
    "    with open(csvpath, 'r') as csvfile:\n",
    "\n",
    "        # Pass in the csv file to the csv.reader() function\n",
    "        # (with ',' as the delmiter/separator) and return the csvreader object\n",
    "        csvreader = csv.reader(csvfile, delimiter=',')\n",
    "        \n",
    "        # Skip the header row\n",
    "        csv_header = next(csvreader)\n",
    "        \n",
    "        #accumulator array\n",
    "        arr = []\n",
    "        \n",
    "        # Read each row of data and append it to array arr\n",
    "        for row in csvreader:            \n",
    "            arr.append(row)\n",
    "            \n",
    "        return arr"
   ]
  },
  {
   "cell_type": "code",
   "execution_count": 2,
   "id": "93e79aa8-66ff-4617-81e3-042b7493edc6",
   "metadata": {},
   "outputs": [],
   "source": [
    "#read in menu and sales files\n",
    "menu = read_csv('menu_data.csv')\n",
    "sales = read_csv('sales_data.csv')"
   ]
  },
  {
   "cell_type": "code",
   "execution_count": 3,
   "id": "87789a62-0e2c-406e-be32-7395520861a7",
   "metadata": {},
   "outputs": [],
   "source": [
    "items = {}\n",
    "\n",
    "#store price and cost in dictionary, with item as key\n",
    "for row in menu:\n",
    "    price = float(row[-2])\n",
    "    cost = float(row[-1])\n",
    "    \n",
    "    items[row[0]] = {\"price\": price, \"cost\": cost, \"profit\": price-cost}"
   ]
  },
  {
   "cell_type": "code",
   "execution_count": 4,
   "id": "449e0dd7-0731-4955-94e6-c937d8498188",
   "metadata": {},
   "outputs": [],
   "source": [
    "#aggregated per-product results\n",
    "report = {}\n",
    "\n",
    "for row_sales in sales:\n",
    "    \n",
    "    #read quantity and item\n",
    "    quantity = int(row_sales[-2])\n",
    "    sales_item = row_sales[-1]\n",
    "    \n",
    "    #add item to report if not exists\n",
    "    if sales_item not in report:\n",
    "        report[sales_item] = {\"01-count\": 0, \n",
    "                              \"02-revenue\": 0, \n",
    "                              \"03-cogs\": 0, \n",
    "                              \"04-profit\": 0}\n",
    "    \n",
    "    #check if item exists in menu\n",
    "    if sales_item not in items:\n",
    "        print(f'{sales_item} not on the menu! NO MATCH!')\n",
    "        \n",
    "    else:\n",
    "        report[sales_item][\"01-count\"] += quantity\n",
    "        report[sales_item][\"02-revenue\"] += items[sales_item][\"price\"] * quantity\n",
    "        report[sales_item][\"03-cogs\"] += items[sales_item][\"cost\"] * quantity\n",
    "        report[sales_item][\"04-profit\"] += items[sales_item][\"profit\"] * quantity"
   ]
  },
  {
   "cell_type": "code",
   "execution_count": 5,
   "id": "45883d2b-0475-472f-a1af-5ac4b3dd1035",
   "metadata": {},
   "outputs": [],
   "source": [
    "#write contents of report to text file\n",
    "with open('PyRamenReport.txt', 'w') as f:\n",
    "    for k,v in report.items():\n",
    "        f.write(f'{k} {v}\\n')"
   ]
  },
  {
   "cell_type": "code",
   "execution_count": null,
   "id": "f39caea4-c6cc-46fe-b0f1-484cc6b3c2af",
   "metadata": {},
   "outputs": [],
   "source": []
  }
 ],
 "metadata": {
  "kernelspec": {
   "display_name": "Python 3 (ipykernel)",
   "language": "python",
   "name": "python3"
  },
  "language_info": {
   "codemirror_mode": {
    "name": "ipython",
    "version": 3
   },
   "file_extension": ".py",
   "mimetype": "text/x-python",
   "name": "python",
   "nbconvert_exporter": "python",
   "pygments_lexer": "ipython3",
   "version": "3.7.13"
  }
 },
 "nbformat": 4,
 "nbformat_minor": 5
}
